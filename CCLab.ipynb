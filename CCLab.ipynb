{
  "nbformat": 4,
  "nbformat_minor": 0,
  "metadata": {
    "colab": {
      "provenance": [],
      "authorship_tag": "ABX9TyMiGSnTdXx3/hGlfMwdituJ"
    },
    "kernelspec": {
      "name": "python3",
      "display_name": "Python 3"
    },
    "language_info": {
      "name": "python"
    }
  },
  "cells": [
    {
      "cell_type": "code",
      "execution_count": null,
      "metadata": {
        "id": "fs8IG_i9dvaN"
      },
      "outputs": [],
      "source": [
        "def son(n):\n",
        "  if n==0:\n",
        "    return 0\n",
        "  if n==1:\n",
        "    return 1\n",
        "  else:\n",
        "    return n+son(n-1)"
      ]
    },
    {
      "cell_type": "code",
      "source": [
        "son(5)"
      ],
      "metadata": {
        "colab": {
          "base_uri": "https://localhost:8080/"
        },
        "id": "cT0cJMQoeMbQ",
        "outputId": "e5561081-2dc6-4f5c-8f26-cbe3f3efb23f"
      },
      "execution_count": null,
      "outputs": [
        {
          "output_type": "execute_result",
          "data": {
            "text/plain": [
              "15"
            ]
          },
          "metadata": {},
          "execution_count": 2
        }
      ]
    },
    {
      "cell_type": "code",
      "source": [
        "def palindrome(n):\n",
        "  x=[]\n",
        "  y=[]\n",
        "  l=[]\n",
        "  z=str(n)\n",
        "  for i in z:\n",
        "    x.append(i)\n",
        "  for j in x:\n",
        "    y.append(j)\n",
        "  for k in x:\n",
        "    l.append(y.pop())\n",
        "\n",
        "  print(x,l)\n",
        "  if x==l:\n",
        "    print('is palindrome')\n",
        "  else:\n",
        "    print(\"not palindrome\")\n"
      ],
      "metadata": {
        "id": "DCPYmxheeQ2f"
      },
      "execution_count": null,
      "outputs": []
    },
    {
      "cell_type": "code",
      "source": [
        "palindrome(121)"
      ],
      "metadata": {
        "colab": {
          "base_uri": "https://localhost:8080/"
        },
        "id": "-TLdkjvhgKIv",
        "outputId": "3c5b6917-2de9-493f-96b2-1f29d5dfebbd"
      },
      "execution_count": null,
      "outputs": [
        {
          "output_type": "stream",
          "name": "stdout",
          "text": [
            "['1', '2', '1'] ['1', '2', '1']\n",
            "is palindrome\n"
          ]
        }
      ]
    },
    {
      "cell_type": "code",
      "source": [
        "def nog(n):\n",
        "  x=0\n",
        "  while n<=-1:\n",
        "    x=n//10\n",
        "    if x>5:\n",
        "      print(x)\n",
        "\n"
      ],
      "metadata": {
        "id": "CTzG4DGtelwO"
      },
      "execution_count": null,
      "outputs": []
    },
    {
      "cell_type": "code",
      "source": [
        "nog(687)"
      ],
      "metadata": {
        "id": "fiawzoRzerPP"
      },
      "execution_count": null,
      "outputs": []
    },
    {
      "cell_type": "code",
      "source": [
        "class Solution:\n",
        "    def twoSum(self, nums: list[int], target: int):\n",
        "        list=[]\n",
        "        for i in nums:\n",
        "            if nums[i]+nums[i+1]==target:\n",
        "                List.append(i)\n",
        "                List.append(j)"
      ],
      "metadata": {
        "id": "4dtBQ_HNesz2"
      },
      "execution_count": null,
      "outputs": []
    },
    {
      "cell_type": "code",
      "source": [
        "nums=[2,7,11,15]\n",
        "target=9\n",
        "Solution.twoSum(nums,target)"
      ],
      "metadata": {
        "colab": {
          "base_uri": "https://localhost:8080/",
          "height": 176
        },
        "id": "5N61P6MmqFDI",
        "outputId": "9bdfa422-de53-43da-feb7-12cb75da3283"
      },
      "execution_count": null,
      "outputs": [
        {
          "output_type": "error",
          "ename": "TypeError",
          "evalue": "Solution.twoSum() missing 1 required positional argument: 'target'",
          "traceback": [
            "\u001b[0;31m---------------------------------------------------------------------------\u001b[0m",
            "\u001b[0;31mTypeError\u001b[0m                                 Traceback (most recent call last)",
            "\u001b[0;32m/tmp/ipython-input-106-1599488835.py\u001b[0m in \u001b[0;36m<cell line: 0>\u001b[0;34m()\u001b[0m\n\u001b[1;32m      1\u001b[0m \u001b[0mnums\u001b[0m\u001b[0;34m=\u001b[0m\u001b[0;34m[\u001b[0m\u001b[0;36m2\u001b[0m\u001b[0;34m,\u001b[0m\u001b[0;36m7\u001b[0m\u001b[0;34m,\u001b[0m\u001b[0;36m11\u001b[0m\u001b[0;34m,\u001b[0m\u001b[0;36m15\u001b[0m\u001b[0;34m]\u001b[0m\u001b[0;34m\u001b[0m\u001b[0;34m\u001b[0m\u001b[0m\n\u001b[1;32m      2\u001b[0m \u001b[0mtarget\u001b[0m\u001b[0;34m=\u001b[0m\u001b[0;36m9\u001b[0m\u001b[0;34m\u001b[0m\u001b[0;34m\u001b[0m\u001b[0m\n\u001b[0;32m----> 3\u001b[0;31m \u001b[0mSolution\u001b[0m\u001b[0;34m.\u001b[0m\u001b[0mtwoSum\u001b[0m\u001b[0;34m(\u001b[0m\u001b[0mnums\u001b[0m\u001b[0;34m,\u001b[0m\u001b[0mtarget\u001b[0m\u001b[0;34m)\u001b[0m\u001b[0;34m\u001b[0m\u001b[0;34m\u001b[0m\u001b[0m\n\u001b[0m",
            "\u001b[0;31mTypeError\u001b[0m: Solution.twoSum() missing 1 required positional argument: 'target'"
          ]
        }
      ]
    },
    {
      "cell_type": "code",
      "source": [
        "import numpy as np\n",
        "\n",
        "arr1=np.array([[1,2,3],[4,5,6],[7,8,9]])\n",
        "arr2=np.flip(np.transpose(arr1),axis=1)\n",
        "\n",
        "arr2"
      ],
      "metadata": {
        "id": "TFCTusuGqtnA",
        "colab": {
          "base_uri": "https://localhost:8080/"
        },
        "outputId": "4f8313ac-8606-4ebd-e08e-fce1f127af20"
      },
      "execution_count": null,
      "outputs": [
        {
          "output_type": "execute_result",
          "data": {
            "text/plain": [
              "array([[7, 4, 1],\n",
              "       [8, 5, 2],\n",
              "       [9, 6, 3]])"
            ]
          },
          "metadata": {},
          "execution_count": 16
        }
      ]
    },
    {
      "cell_type": "code",
      "source": [
        "len(arr1)"
      ],
      "metadata": {
        "colab": {
          "base_uri": "https://localhost:8080/"
        },
        "id": "lc5fXe0Hi0oR",
        "outputId": "f71bbf9d-e77f-41e3-efe2-fe32759af182"
      },
      "execution_count": null,
      "outputs": [
        {
          "output_type": "execute_result",
          "data": {
            "text/plain": [
              "3"
            ]
          },
          "metadata": {},
          "execution_count": 17
        }
      ]
    },
    {
      "cell_type": "code",
      "source": [
        "def zeroMatrix(matrix, n, m):\n",
        "    row = [0] * n\n",
        "    col = [0] * m\n",
        "\n",
        "    for i in range(n):\n",
        "        for j in range(m):\n",
        "            if matrix[i][j] == 0:\n",
        "                row[i] = 1\n",
        "                col[j] = 1\n",
        "\n",
        "    for i in range(n):\n",
        "        for j in range(m):\n",
        "            if row[i] or col[j]:\n",
        "                matrix[i][j] = 0\n",
        "\n",
        "    return matrix\n",
        "\n",
        "\n",
        "if __name__ == \"__main__\":\n",
        "\tmatrix = [[1, 1, 1], [1, 0, 1], [1, 1, 1]]\n",
        "\tn = len(matrix)\n",
        "\tm = len(matrix[0])\n",
        "\tans = zeroMatrix(matrix, n, m)\n",
        "\n",
        "\tprint(\"The Final matrix is:\")\n",
        "\tfor row in ans:\n",
        "\t    for ele in row:\n",
        "\t        print(ele, end=\" \")\n",
        "\t    print()\n"
      ],
      "metadata": {
        "id": "bZfdHpfBpwCB",
        "colab": {
          "base_uri": "https://localhost:8080/"
        },
        "outputId": "952eac16-dc62-4fb9-a8d0-3637ff49a0ca"
      },
      "execution_count": null,
      "outputs": [
        {
          "output_type": "stream",
          "name": "stdout",
          "text": [
            "The Final matrix is:\n",
            "1 0 1 \n",
            "0 0 0 \n",
            "1 0 1 \n"
          ]
        }
      ]
    },
    {
      "cell_type": "code",
      "source": [
        "#pascals triangle\n",
        "import math\n",
        "\n",
        "def nCr(n, r):\n",
        "    res = 1\n",
        "\n",
        "    # calculating nCr:\n",
        "    for i in range(r):\n",
        "        res = res * (n - i)\n",
        "        res = res // (i + 1)\n",
        "\n",
        "    return res\n",
        "\n",
        "def pascalTriangle(r, c):\n",
        "    element = nCr(r - 1, c - 1)\n",
        "    return element\n",
        "\n",
        "if __name__ == '__main__':\n",
        "    r = 5\n",
        "    c = 3\n",
        "    element = pascalTriangle(r, c)\n",
        "    print(f\"The element at position (r,c) is: {element}\")\n"
      ],
      "metadata": {
        "id": "unmZze9-k5eu",
        "colab": {
          "base_uri": "https://localhost:8080/"
        },
        "outputId": "3a9a97ec-03fc-424e-d188-e94da47def9f"
      },
      "execution_count": null,
      "outputs": [
        {
          "output_type": "stream",
          "name": "stdout",
          "text": [
            "The element at position (r,c) is: 6\n"
          ]
        }
      ]
    },
    {
      "cell_type": "code",
      "source": [
        "#kadane's\n",
        "import sys\n",
        "def maxSubarray(arr,n):\n",
        "  maxi=-sys.maxsize-1\n",
        "  sum=0\n",
        "\n",
        "  for i in range(n):\n",
        "    if sum > maxi:\n",
        "      maxi=sum\n",
        "\n",
        "    if sum<0:\n",
        "      sum=0\n",
        "\n",
        "    return maxi\n",
        "arr = [-2, 1, -3, 4, -1, 2, 1, -5, 4]\n",
        "n = len(arr)\n",
        "maxSum = maxSubarray(arr, n)\n",
        "\n",
        "\n",
        "\n",
        "\n"
      ],
      "metadata": {
        "id": "UZTZwIOxpYXj"
      },
      "execution_count": null,
      "outputs": []
    },
    {
      "cell_type": "code",
      "source": [
        "def maxProfit(prices):\n",
        "  maxi=-float(\"inf\")\n",
        "  mini=float(\"inf\")\n",
        "  for i in range(len(prices)):\n",
        "    mini=min(mini,prices[i])\n",
        "    maxi=max(maxi,prices[i]-mini)\n",
        "  return maxi"
      ],
      "metadata": {
        "id": "_QM51QcGso5C"
      },
      "execution_count": null,
      "outputs": []
    },
    {
      "cell_type": "code",
      "source": [
        "maxProfit([7,1,5,3,6,4])"
      ],
      "metadata": {
        "colab": {
          "base_uri": "https://localhost:8080/"
        },
        "id": "39hVE1omv4lx",
        "outputId": "e956b975-b2c5-4278-ae65-14c312bbe7a1"
      },
      "execution_count": null,
      "outputs": [
        {
          "output_type": "execute_result",
          "data": {
            "text/plain": [
              "5"
            ]
          },
          "metadata": {},
          "execution_count": 19
        }
      ]
    },
    {
      "cell_type": "code",
      "source": [
        "arr=[0,1,0,2,1,0,2,2,0,1]\n",
        "sorted=arr.sort()"
      ],
      "metadata": {
        "id": "ArDZzimGv9nL"
      },
      "execution_count": null,
      "outputs": []
    },
    {
      "cell_type": "code",
      "source": [
        "print(sorted)"
      ],
      "metadata": {
        "colab": {
          "base_uri": "https://localhost:8080/"
        },
        "id": "gFRT0y_SxV9C",
        "outputId": "b530a763-6712-49b1-ff07-7b1e735c5891"
      },
      "execution_count": null,
      "outputs": [
        {
          "output_type": "stream",
          "name": "stdout",
          "text": [
            "None\n"
          ]
        }
      ]
    },
    {
      "cell_type": "code",
      "source": [
        "\n",
        "def sortArray(arr):\n",
        "    low = 0\n",
        "    mid = 0\n",
        "    high = len(arr) - 1\n",
        "\n",
        "    while mid <= high:\n",
        "        if arr[mid] == 0:\n",
        "            arr[low], arr[mid] = arr[mid], arr[low]\n",
        "            low += 1\n",
        "            mid += 1\n",
        "        elif arr[mid] == 1:\n",
        "            mid += 1\n",
        "        else:\n",
        "            arr[mid], arr[high] = arr[high], arr[mid]\n",
        "            high -= 1\n",
        "\n",
        "n = 6\n",
        "arr = [0, 2, 1, 2, 0, 1]\n",
        "sortArray(arr)\n",
        "print(\"After sorting:\")\n",
        "for num in arr:\n",
        "    print(num, end=\" \")\n",
        "print()\n"
      ],
      "metadata": {
        "colab": {
          "base_uri": "https://localhost:8080/"
        },
        "id": "dB1VBKbaxXYe",
        "outputId": "064962d7-8af0-468d-9c61-902a73007015"
      },
      "execution_count": null,
      "outputs": [
        {
          "output_type": "stream",
          "name": "stdout",
          "text": [
            "After sorting:\n",
            "0 0 1 1 2 2 \n"
          ]
        }
      ]
    },
    {
      "cell_type": "code",
      "source": [
        "\n",
        "from typing import List\n",
        "\n",
        "def mergeOverlappingIntervals(arr: List[List[int]]) -> List[List[int]]:\n",
        "    n = len(arr)\n",
        "\n",
        "\n",
        "    arr.sort()\n",
        "\n",
        "    ans = []\n",
        "\n",
        "    for i in range(n):\n",
        "\n",
        "        if not ans or arr[i][0] > ans[-1][1]:\n",
        "            ans.append(arr[i])\n",
        "        else:\n",
        "            ans[-1][1] = max(ans[-1][1], arr[i][1])\n",
        "    return ans\n",
        "\n",
        "if __name__ == '__main__':\n",
        "    arr = [[1, 3], [8, 10], [2, 6], [15, 18]]\n",
        "    ans = mergeOverlappingIntervals(arr)\n",
        "    print(\"The merged intervals are:\")\n",
        "    for it in ans:\n",
        "        print(f\"[{it[0]}, {it[1]}]\", end=\" \")\n",
        "    print()"
      ],
      "metadata": {
        "colab": {
          "base_uri": "https://localhost:8080/"
        },
        "id": "Kee0pplb0JxR",
        "outputId": "9c8c450e-2d9d-4160-cd42-57c73bd51bd1"
      },
      "execution_count": null,
      "outputs": [
        {
          "output_type": "stream",
          "name": "stdout",
          "text": [
            "The merged intervals are:\n",
            "[1, 6] [8, 10] [15, 18] \n"
          ]
        }
      ]
    },
    {
      "cell_type": "code",
      "source": [
        "class Node:\n",
        "    def __init__(self, data, next_node=None):\n",
        "        self.data = data\n",
        "        self.next = next_node\n",
        "\n",
        "\n",
        "def reverseLinkedList(head):\n",
        "    temp = head\n",
        "    prev = None\n",
        "    while temp is not None:\n",
        "        front = temp.next\n",
        "        temp.next = prev\n",
        "        prev = temp\n",
        "        temp = front\n",
        "    return prev\n",
        "\n",
        "def print_linked_list(head):\n",
        "    temp = head\n",
        "    while temp is not None:\n",
        "        print(temp.data, end=\" \")\n",
        "        temp = temp.next\n",
        "    print()\n",
        "\n",
        "head = Node(1)\n",
        "head.next = Node(3)\n",
        "head.next.next = Node(2)\n",
        "head.next.next.next = Node(4)\n",
        "\n",
        "print(\"Original Linked List:\", end=\" \")\n",
        "print_linked_list(head)\n",
        "head = reverseLinkedList(head)\n",
        "\n",
        "print(\"Reversed Linked List:\", end=\" \")\n",
        "print_linked_list(head)\n"
      ],
      "metadata": {
        "id": "CpfURcDe2xQL",
        "colab": {
          "base_uri": "https://localhost:8080/"
        },
        "outputId": "6a239228-d607-42ed-e7b0-272de62bcac0"
      },
      "execution_count": 3,
      "outputs": [
        {
          "output_type": "stream",
          "name": "stdout",
          "text": [
            "Original Linked List: 1 3 2 4 \n",
            "Reversed Linked List: 4 2 3 1 \n"
          ]
        }
      ]
    },
    {
      "cell_type": "code",
      "source": [],
      "metadata": {
        "id": "nzdAdXaKvRsF"
      },
      "execution_count": null,
      "outputs": []
    }
  ]
}