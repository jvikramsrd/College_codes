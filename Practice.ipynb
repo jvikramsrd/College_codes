{
 "cells": [
  {
   "cell_type": "code",
   "execution_count": 3,
   "id": "a1b5cd3a",
   "metadata": {},
   "outputs": [],
   "source": [
    "def mergesort(arr):\n",
    "    if len(arr)==1:\n",
    "        return arr\n",
    "    \n",
    "    mid=len(arr)//2\n",
    "    left=mergesort(arr[:mid])\n",
    "    right=mergesort(arr[mid:])\n",
    "\n",
    "    sorted_arr=[]\n",
    "    i=j=0\n",
    "    while i<len(left) and j<len(right):\n",
    "        if left[i]<right[j]:\n",
    "            sorted_arr.append(left[i])\n",
    "            i+=1\n",
    "        else:\n",
    "            sorted_arr.append(right[j])\n",
    "            j+=1\n",
    "    sorted_arr.extend(left[i:])\n",
    "    sorted_arr.extend(right[j:])\n",
    "    return sorted_arr\n",
    "        \n"
   ]
  },
  {
   "cell_type": "code",
   "execution_count": 4,
   "id": "d8d2587f",
   "metadata": {},
   "outputs": [
    {
     "name": "stdout",
     "output_type": "stream",
     "text": [
      "Original: [12, 11, 13, 5, 6, 7]\n",
      "Sorted: [5, 6, 7, 11, 12, 13]\n"
     ]
    }
   ],
   "source": [
    "my_list = [12, 11, 13, 5, 6, 7]\n",
    "sorted_list = mergesort(my_list)\n",
    "print(f\"Original: {my_list}\\nSorted: {sorted_list}\")\n"
   ]
  },
  {
   "cell_type": "code",
   "execution_count": 1,
   "id": "0142c26b",
   "metadata": {},
   "outputs": [
    {
     "name": "stdout",
     "output_type": "stream",
     "text": [
      "Sequence and Profit: (['J3', 'J1'], 127)\n"
     ]
    }
   ],
   "source": [
    "def job_sequencing(jobs):\n",
    "    # jobs = [(id, deadline, profit), ...]\n",
    "    # 1. Sort jobs by profit in descending order\n",
    "    jobs.sort(key=lambda x: x[2], reverse=True)\n",
    "    \n",
    "    max_deadline = max(job[1] for job in jobs)\n",
    "    slots = [-1] * (max_deadline + 1) # Time slots\n",
    "    total_profit = 0\n",
    "\n",
    "    # 2. Fit jobs into the latest possible slot\n",
    "    for job_id, deadline, profit in jobs:\n",
    "        for i in range(deadline, 0, -1):\n",
    "            if slots[i] == -1: # If slot is free\n",
    "                slots[i] = job_id\n",
    "                total_profit += profit\n",
    "                break\n",
    "                \n",
    "    return [job for job in slots if job != -1], total_profit\n",
    "\n",
    "# --- Example ---\n",
    "jobs = [('J1', 2, 100), ('J2', 1, 19), ('J3', 2, 27)]\n",
    "print(f\"Sequence and Profit: {job_sequencing(jobs)}\")"
   ]
  },
  {
   "cell_type": "code",
   "execution_count": null,
   "id": "4b2f7a26",
   "metadata": {},
   "outputs": [],
   "source": []
  }
 ],
 "metadata": {
  "kernelspec": {
   "display_name": "Python 3",
   "language": "python",
   "name": "python3"
  },
  "language_info": {
   "codemirror_mode": {
    "name": "ipython",
    "version": 3
   },
   "file_extension": ".py",
   "mimetype": "text/x-python",
   "name": "python",
   "nbconvert_exporter": "python",
   "pygments_lexer": "ipython3",
   "version": "3.13.7"
  }
 },
 "nbformat": 4,
 "nbformat_minor": 5
}
